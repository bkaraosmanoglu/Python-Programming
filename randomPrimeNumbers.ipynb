{
 "cells": [
  {
   "cell_type": "code",
   "execution_count": 1,
   "metadata": {},
   "outputs": [
    {
     "name": "stdout",
     "output_type": "stream",
     "text": [
      "9 random prime number:  [883, 7057, 7823, 2791, 5273, 4889, 4733, 5783, 659]\n",
      "Splited into three by three matrixes  [[883, 7057, 7823], [2791, 5273, 4889], [4733, 5783, 659]]\n",
      "3x3 matrix form: \n",
      "883 7057 7823\n",
      "2791 5273 4889\n",
      "4733 5783 659\n"
     ]
    }
   ],
   "source": [
    "import random\n",
    "\n",
    "# Put the prime numbers between 0 and 10000 in the numList that we created.\n",
    "numList = []\n",
    "for num in range(0, 10000 + 1):\n",
    "   # all prime numbers are greater than 1\n",
    "   if num > 1:\n",
    "        for i in range(2, num):\n",
    "            if (num % i) == 0:\n",
    "                break\n",
    "        else:\n",
    "            numList.append(num)\n",
    "\n",
    "# Take random 9 of the numbers in the numlist and put them in the randomlist.\n",
    "randomlist = []\n",
    "for i in range(0,9):\n",
    "    n = random.choice(numList)\n",
    "    randomlist.append(n)\n",
    "print(\"9 random prime number: \",randomlist)\n",
    "\n",
    "# Create a matrix and separate three by three\n",
    "matrix = []\n",
    "while randomlist != []:\n",
    "    matrix.append(randomlist[:3])\n",
    "    randomlist = randomlist[3:]\n",
    "print(\"Splited into three by three matrixes \",matrix,)\n",
    "\n",
    "# Print the matrix we created as 3x3 on the screen\n",
    "print(\"3x3 matrix form: \")\n",
    "for a, b ,c in (x[i:i+3] for x in matrix for i in range(0,len(x),3)):\n",
    "    print(a,b,c)"
   ]
  },
  {
   "cell_type": "code",
   "execution_count": null,
   "metadata": {},
   "outputs": [],
   "source": []
  }
 ],
 "metadata": {
  "kernelspec": {
   "display_name": "Python 3",
   "language": "python",
   "name": "python3"
  },
  "language_info": {
   "codemirror_mode": {
    "name": "ipython",
    "version": 3
   },
   "file_extension": ".py",
   "mimetype": "text/x-python",
   "name": "python",
   "nbconvert_exporter": "python",
   "pygments_lexer": "ipython3",
   "version": "3.6.2"
  }
 },
 "nbformat": 4,
 "nbformat_minor": 4
}
